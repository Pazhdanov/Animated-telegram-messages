{
 "cells": [
  {
   "cell_type": "code",
   "execution_count": null,
   "metadata": {},
   "outputs": [],
   "source": [
    "import asyncio\n",
    "from random import choice\n",
    "\n",
    "from telethon import TelegramClient\n",
    "from telethon.events import NewMessage\n",
    "\n",
    "import nest_asyncio\n",
    "nest_asyncio.apply()"
   ]
  },
  {
   "cell_type": "code",
   "execution_count": null,
   "metadata": {},
   "outputs": [],
   "source": [
    "#your own values from telegram.org\n",
    "APP_ID = 1252636\n",
    "API_HASH = '4037e9f957f6f17d461b0c288ffa50f1'\n",
    "\n",
    "HEART = '🤍'\n",
    "COLORED_HEARTS = ['💗', '💓', '💖', '💘', '❤️', '💞']\n",
    "MAGIC_PHRASES = ['magic']\n",
    "EDIT_DELAY = 0.01\n",
    "\n",
    "PARADE_MAP = '''\n",
    "000000000\n",
    "011101110\n",
    "111111111\n",
    "111111111\n",
    "011111110\n",
    "001111100\n",
    "000111000\n",
    "000010000\n",
    "'''"
   ]
  },
  {
   "cell_type": "code",
   "execution_count": null,
   "metadata": {},
   "outputs": [],
   "source": [
    "client = TelegramClient(None, APP_ID, API_HASH)"
   ]
  },
  {
   "cell_type": "code",
   "execution_count": null,
   "metadata": {},
   "outputs": [],
   "source": [
    "async def main():\n",
    "    while(1):\n",
    "        await asyncio.sleep(EDIT_DELAY)"
   ]
  },
  {
   "cell_type": "code",
   "execution_count": null,
   "metadata": {},
   "outputs": [],
   "source": [
    "def generate_parade_colored():\n",
    "    output = ''\n",
    "    for c in PARADE_MAP:\n",
    "        if c == '0':\n",
    "            output += HEART\n",
    "        elif c == '1':\n",
    "            output += choice(COLORED_HEARTS)\n",
    "        else:\n",
    "            output += c\n",
    "    return output\n",
    "    \n",
    "async def process_love_words(event: NewMessage.Event):\n",
    "    await client.edit_message(event.peer_id.user_id, event.message.id, 'бека')\n",
    "    await asyncio.sleep(1)\n",
    "    await client.edit_message(event.peer_id.user_id, event.message.id, 'бека лох')\n",
    "    \n",
    "async def process_build_place(event: NewMessage.Event):\n",
    "    output = ''\n",
    "    for i in range(8):\n",
    "        output += '\\n'\n",
    "        for j in range(11):\n",
    "            output += HEART\n",
    "            await client.edit_message(event.peer_id.user_id, event.message.id, output)\n",
    "            await asyncio.sleep(EDIT_DELAY / 2)\n",
    "    \n",
    "async def process_colored_parade(event: NewMessage.Event):\n",
    "    for i in range(50):\n",
    "        text = generate_parade_colored()\n",
    "        await client.edit_message(event.peer_id.user_id, event.message.id, text)\n",
    "\n",
    "        await asyncio.sleep(EDIT_DELAY)\n",
    "    \n",
    "@client.on(NewMessage(outgoing=True))\n",
    "async def handle_message(event: NewMessage.Event):\n",
    "    if event.message.message in MAGIC_PHRASES:\n",
    "        print(\"Magic word appeared...\")\n",
    "        await process_build_place(event)\n",
    "        await process_colored_parade(event)\n",
    "        await process_love_words(event)"
   ]
  },
  {
   "cell_type": "code",
   "execution_count": null,
   "metadata": {},
   "outputs": [],
   "source": [
    "async with client:\n",
    "    client.loop.run_until_complete(main())\n",
    "    #client.loop.run_until_complete(client.send_message('me', 'Hello, myself!'))"
   ]
  },
  {
   "cell_type": "code",
   "execution_count": null,
   "metadata": {},
   "outputs": [],
   "source": []
  }
 ],
 "metadata": {
  "kernelspec": {
   "display_name": "Python 3",
   "language": "python",
   "name": "python3"
  },
  "language_info": {
   "codemirror_mode": {
    "name": "ipython",
    "version": 3
   },
   "file_extension": ".py",
   "mimetype": "text/x-python",
   "name": "python",
   "nbconvert_exporter": "python",
   "pygments_lexer": "ipython3",
   "version": "3.8.3"
  }
 },
 "nbformat": 4,
 "nbformat_minor": 4
}
